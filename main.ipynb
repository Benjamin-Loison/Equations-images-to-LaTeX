{
 "cells": [
  {
   "cell_type": "code",
   "execution_count": 5,
   "metadata": {},
   "outputs": [],
   "source": [
    "! wget http://tc11.cvc.uab.es/index.php?com=upload&action=file_down&section=dataset&section_id=106&file=112"
   ]
  },
  {
   "cell_type": "code",
   "execution_count": 2,
   "metadata": {},
   "outputs": [],
   "source": [
    "import torch\n",
    "import torch.nn as nn\n",
    "import torch.optim as optim\n",
    "import torch.nn.functional as F\n",
    "from sklearn.feature_extraction.text import CountVectorizer\n",
    "# https://pytorch.org/docs/stable/generated/torch.nn.GRU.html\n",
    "\"\"\"\n",
    "The encoder is a stack of bidirectional GRUs while the decoder combines a\n",
    "unidirectional GRU and an attention mechanism into the recurrent sequence\n",
    "generator.\n",
    "\n",
    "We use cross-entropy (CE) as the criterion.\n",
    "\"\"\"\n",
    "criterion = nn.CrossEntropyLoss()\n",
    "# encoder = nn.GRU(,, 4, True, False, 0, True)\n",
    "# m, n = 256, 256\n",
    "# nPrime, D = 500, 500\n",
    "# optimizer = optim.Adadelta(params, lr=1.0, rho=0.95, eps=1e-06)\n",
    "#             optim.Adam"
   ]
  },
  {
   "cell_type": "code",
   "execution_count": 3,
   "metadata": {},
   "outputs": [],
   "source": [
    "def pad_right_to_length(tensor, after_length, pad_value):\n",
    "    n=tensor.shape[0]\n",
    "    if after_length>n:\n",
    "        tensor=F.pad(tensor,(0,after_length-n))\n",
    "        for i in range(after_length-n):\n",
    "            tensor[n+i]=pad_value\n",
    "    elif out_len<truth_len:\n",
    "        raise ValueError(\"after_length is smaller than tensor length. Cannot shrink !\")\n",
    "    return tensor\n",
    "\n",
    "def list_to_tensor_normalized(tensor_list, pad_value):\n",
    "    lengths=[tensor.shape[0] for tensor in tensor_list]\n",
    "    big_tensor=torch.nn.utils.pad_sequence(tensor_list,batch_first=True)\n",
    "    for i in range(len(tensor_list)):\n",
    "        big_tensor[i,lenghts[i]:]=pad_value\n",
    "    return big_tensor"
   ]
  },
  {
   "cell_type": "code",
   "execution_count": 10,
   "metadata": {},
   "outputs": [],
   "source": [
    "class EquationNet(nn.Module):\n",
    "    def __init__(self, embedding_dim, vocab_size):\n",
    "        super(EquationNet,self).__init__()\n",
    "        self.vocab_size = vocab_size\n",
    "        #encoder\n",
    "        self.conv1=nn.Conv2d(1,64,kernel_size=(3,3),stride=(1,1),padding=(1,1))\n",
    "        self.pool1=nn.MaxPool2d((2,2),stride=(2,2))\n",
    "        self.conv2=nn.Conv2d(64,128,kernel_size=(3,3),stride=(1,1),padding=(1,1))\n",
    "        self.pool2=self.pool1=nn.MaxPool2d((2,2),stride=(2,2))\n",
    "        self.conv3=nn.Conv2d(128,256,kernel_size=(3,3),stride=(1,1),padding=(1,1))\n",
    "        self.bn3=nn.BatchNorm2d(256)\n",
    "        self.conv4=nn.Conv2d(256,256,kernel_size=(3,3),stride=(1,1),padding=(1,1))\n",
    "        self.pool4=self.pool1=nn.MaxPool2d((2,1),stride=(2,1))\n",
    "        self.conv5=nn.Conv2d(256,512,kernel_size=(3,3),stride=(1,1),padding=(1,1))\n",
    "        self.bn5=nn.BatchNorm2d(512)\n",
    "        self.pool5=self.pool1=nn.MaxPool2d((2,1),stride=(2,1))\n",
    "        self.conv6=nn.Conv2d(512,512,kernel_size=(3,3),stride=(1,1),padding=(1,1))\n",
    "        self.bn6=nn.BatchNorm2d(512)\n",
    "        #embeddings\n",
    "        self.embed=nn.Linear(512,embedding_dim)\n",
    "        #decoder\n",
    "        self.blstm=nn.LSTM(input_size=embedding_dim,hidden_size=vocab_size,num_layers=2,batch_first=True,dropout=0.1,bidirectional=True)\n",
    "    \n",
    "    def forward(self,inputs):\n",
    "        #encoding\n",
    "        #tensor has size (batch_size, color_chans, height, width)\n",
    "        print(\"(batch_size, color_chans, height, width)\", inputs.shape)\n",
    "        x=self.conv1(inputs)\n",
    "        x=self.pool1(x)\n",
    "        x=self.conv2(x)\n",
    "        x=self.pool2(x)\n",
    "        x=self.conv3(x)\n",
    "        x=self.bn3(x)\n",
    "        x=self.conv4(x)\n",
    "        x=self.pool4(x)\n",
    "        x=self.conv5(x)\n",
    "        x=self.bn5(x)\n",
    "        x=self.pool5(x)\n",
    "        x=self.conv6(x)\n",
    "        x=self.bn6(x)\n",
    "        #tensor has size (batch_size, features, new_height, new_width)\n",
    "        print(\"(batch_size, features, new_height, new_width)\", x.shape)\n",
    "        #converting 2D to 1D\n",
    "        x=torch.flatten(x,start_dim=2,end_dim=3)\n",
    "        #tensor has size (batch_size, features, new_height*new_width)\n",
    "        print(\"(batch_size, features, new_height*new_width)\", x.shape)\n",
    "        #transposing to work on features\n",
    "        x=torch.transpose(x,1,2)\n",
    "        #embedding\n",
    "        #tensor has size (batch_size, new_height*new_width, features)\n",
    "        print(\"(batch_size, new_height*new_width, features)\", x.shape)\n",
    "        x=self.embed(x)\n",
    "        #decoding\n",
    "        #tensor has size (batch_size, new_height*new_width, embedding_dim)\n",
    "        print(\"(batch_size, new_height*new_width, embedding_dim)\", x.shape)\n",
    "        x=self.blstm(x)[0]\n",
    "        #tensor has size (batch_size, new_height*new_width, 2*vocab_size)\n",
    "        print(\"(batch_size, new_height*new_width, 2*vocab_size)\", x.shape)\n",
    "        x1=x[:,:,:self.vocab_size]\n",
    "        x2=x[:,:,self.vocab_size:2*self.vocab_size]\n",
    "        x=x1+x2\n",
    "        #tensor has size (batch_size, new_height*new_width, vocab_size)\n",
    "        x=F.gumbel_softmax(x,hard=True,dim=2)\n",
    "        return x"
   ]
  },
  {
   "cell_type": "code",
   "execution_count": 11,
   "metadata": {},
   "outputs": [],
   "source": [
    "def train_net(model, data_loader, loss, num_epochs, pad_value, verbose=True):\n",
    "    losses=[]\n",
    "    for epoch in range(num_epochs):\n",
    "        for sample_id, (sample_data, sample_truth) in enumerate(data_loader):\n",
    "            output=model(sample_data)\n",
    "            modified_truth=pad_right_to_length(sample_truth, output.shape[0], pad_value)\n",
    "            modified_truth=adapt_truth(sample_truth, output)\n",
    "            optimizer.zero_grad()\n",
    "            loss_value=loss(output, modified_truth)\n",
    "            losses.append(loss_value)\n",
    "            loss.backward()\n",
    "            optimizer.step()\n",
    "            if verbose and ((i+1)%len(data_loader))==0:\n",
    "                print(\"Epoch[{}/{}], batch[{}/{}], loss : {}\".format(epoch+1,num_epochs, batch_id, len(data_loader), loss_value))\n",
    "    return losses"
   ]
  },
  {
   "cell_type": "code",
   "execution_count": 14,
   "metadata": {},
   "outputs": [
    {
     "name": "stdout",
     "output_type": "stream",
     "text": [
      "dataset/processed_images/6695228021.png\n",
      "torch.Size([1, 1, 173, 680])\n",
      "(batch_size, color_chans, height, width) torch.Size([1, 1, 173, 680])\n",
      "(batch_size, features, new_height, new_width) torch.Size([1, 512, 10, 340])\n",
      "(batch_size, features, new_height*new_width) torch.Size([1, 512, 3400])\n",
      "(batch_size, new_height*new_width, features) torch.Size([1, 3400, 512])\n",
      "(batch_size, new_height*new_width, embedding_dim) torch.Size([1, 3400, 300])\n",
      "(batch_size, new_height*new_width, 2*vocab_size) torch.Size([1, 3400, 1162])\n",
      "torch.Size([1, 3400, 581])\n"
     ]
    }
   ],
   "source": [
    "import glob\n",
    "import cv2\n",
    "\n",
    "img_paths = glob.glob(\"dataset/processed_images/*\")\n",
    "print(img_paths[0])\n",
    "img = cv2.imread(img_paths[0], cv2.IMREAD_GRAYSCALE)\n",
    "img_tensor = torch.Tensor(img).unsqueeze(0).unsqueeze(0)\n",
    "\n",
    "print(img_tensor.shape)\n",
    "\n",
    "net = EquationNet(300,581)\n",
    "output = net(img_tensor)\n",
    "\n",
    "print(output.shape)"
   ]
  },
  {
   "cell_type": "code",
   "execution_count": null,
   "metadata": {},
   "outputs": [],
   "source": []
  }
 ],
 "metadata": {
  "kernelspec": {
   "display_name": "Python 3",
   "language": "python",
   "name": "python3"
  },
  "language_info": {
   "codemirror_mode": {
    "name": "ipython",
    "version": 3
   },
   "file_extension": ".py",
   "mimetype": "text/x-python",
   "name": "python",
   "nbconvert_exporter": "python",
   "pygments_lexer": "ipython3",
   "version": "3.9.7"
  }
 },
 "nbformat": 4,
 "nbformat_minor": 4
}
