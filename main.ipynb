{
 "cells": [
  {
   "cell_type": "code",
   "execution_count": 5,
   "metadata": {},
   "outputs": [],
   "source": [
    "! wget http://tc11.cvc.uab.es/index.php?com=upload&action=file_down&section=dataset&section_id=106&file=112"
   ]
  },
  {
   "cell_type": "code",
   "execution_count": 1,
   "metadata": {},
   "outputs": [],
   "source": [
    "import torch\n",
    "import torch.nn as nn\n",
    "import torch.optim as optim\n",
    "from sklearn.feature_extraction.text import CountVectorizer\n",
    "# https://pytorch.org/docs/stable/generated/torch.nn.GRU.html\n",
    "\"\"\"the encoder is a stack of bidirectional\n",
    "GRUs while the decoder combines a unidirectional GRU and\n",
    "an attention mechanism into the recurrent sequence genera-\n",
    "tor.\n",
    "\n",
    "we use\n",
    "cross-entropy (CE) as the criterion\n",
    "\"\"\"\n",
    "criterion = nn.CrossEntropyLoss()\n",
    "encoder = nn.GRU(,, 4, True, False, 0, True)\n",
    "m, n = 256, 256\n",
    "nPrime, D = 500, 500\n",
    "optimizer = optim.Adadelta(params, lr=1.0, rho=0.95, eps=1e-06)"
   ]
  },
  {
   "cell_type": "code",
   "execution_count": null,
   "metadata": {},
   "outputs": [],
   "source": [
    "equations = #import equations list, items must be string of latex keywords, with, start, end and pad\n",
    "transformer=CountVectorizer()\n",
    "transformer.fit(equations)\n",
    "encoder=transformer.vocabulary_\n",
    "\n",
    "vocab_size=len(encoder)"
   ]
  },
  {
   "cell_type": "code",
   "execution_count": null,
   "metadata": {},
   "outputs": [],
   "source": [
    "class EquationNet(nn.Module):\n",
    "    def __init__(self):\n",
    "        super(EquationNet,self,embedding_dim,pmi,vocab_size).__init__()\n",
    "        #encoder\n",
    "        self.conv1=nn.Conv2d(1,64,kernel_size=(3,3),stride=(1,1),padding=(1,1))\n",
    "        self.pool1=nn.MaxPool2d((2,2),stride=(2,2))\n",
    "        self.conv2=nn.Conv2d(64,128,kernel_size=(3,3),stride=(1,1),padding=(1,1))\n",
    "        self.pool2=self.pool1=nn.MaxPool2d((2,2),stride=(2,2))\n",
    "        self.conv3=nn.Conv2d(128,256,kernel_size=(3,3),stride=(1,1),padding=(1,1))\n",
    "        self.bn3=nn.BatchNorm2d(256)\n",
    "        self.conv4=nn.Conv2d(256,256,kernel_size=(3,3),stride=(1,1),padding=(1,1))\n",
    "        self.pool4=self.pool1=nn.MaxPool2d((2,1),stride=(2,1))\n",
    "        self.conv5=nn.Conv2d(256,512,kernel_size=(3,3),stride=(1,1),padding=(1,1))\n",
    "        self.bn5=nn.BatchNorm2d(512)\n",
    "        self.pool5=self.pool1=nn.MaxPool2d((2,1),stride=(2,1))\n",
    "        self.conv6=nn.Conv2d(512,512,kernel_size=(3,3),stride=(1,1),padding=(1,1))\n",
    "        self.bn6=nn.BatchNorm2d(512)\n",
    "        #embeddings\n",
    "        \n",
    "        self.embed=\n",
    "        #decoder\n",
    "        self.blstm=nn.LSTM(input_size=embedding_dim,hidden_size=vocab_size,num_layers=2,batch_first=True,dropout=0.1,bidirectional=True)\n",
    "        self.sm=nn.Softmax(dim=3)\n",
    "    \n",
    "    def forward(self,inputs):\n",
    "        #encoding\n",
    "        x=self.conv1(inputs)\n",
    "        x=self.pool1(x)\n",
    "        x=self.conv2(x)\n",
    "        x=self.pool2(x)\n",
    "        x=self.conv3(x)\n",
    "        x=self.bn3(x)\n",
    "        x=self.conv4(x)\n",
    "        x=self.pool4(x)\n",
    "        x=self.conv5(x)\n",
    "        x=self.bn5(x)\n",
    "        x=self.pool5(x)\n",
    "        x=self.conv6(x)\n",
    "        x=self.bn6(x)\n",
    "        #encoding\n",
    "        x=self.embed(x)\n",
    "        #decoding\n",
    "        x=self.blstm(x)\n",
    "        x=self.sm(x)"
   ]
  }
 ],
 "metadata": {
  "kernelspec": {
   "display_name": "Python 3",
   "language": "python",
   "name": "python3"
  },
  "language_info": {
   "codemirror_mode": {
    "name": "ipython",
    "version": 3
   },
   "file_extension": ".py",
   "mimetype": "text/x-python",
   "name": "python",
   "nbconvert_exporter": "python",
   "pygments_lexer": "ipython3",
   "version": "3.7.0"
  }
 },
 "nbformat": 4,
 "nbformat_minor": 4
}
