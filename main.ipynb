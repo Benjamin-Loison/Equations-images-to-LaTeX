{
 "cells": [
  {
   "cell_type": "code",
   "execution_count": 5,
   "metadata": {},
   "outputs": [],
   "source": [
    "! wget http://tc11.cvc.uab.es/index.php?com=upload&action=file_down&section=dataset&section_id=106&file=112"
   ]
  },
  {
   "cell_type": "code",
   "execution_count": 1,
   "metadata": {},
   "outputs": [],
   "source": [
    "import torch\n",
    "import torch.nn as nn\n",
    "import torch.optim as optim\n",
    "# https://pytorch.org/docs/stable/generated/torch.nn.GRU.html\n",
    "\"\"\"the encoder is a stack of bidirectional\n",
    "GRUs while the decoder combines a unidirectional GRU and\n",
    "an attention mechanism into the recurrent sequence genera-\n",
    "tor.\n",
    "\n",
    "we use\n",
    "cross-entropy (CE) as the criterion\n",
    "\"\"\"\n",
    "criterion = nn.CrossEntropyLoss()\n",
    "encoder = nn.GRU(,, 4, True, False, 0, True)\n",
    "m, n = 256, 256\n",
    "nPrime, D = 500, 500\n",
    "optimizer = optim.Adadelta(params, lr=1.0, rho=0.95, eps=1e-06)"
   ]
  },
  {
   "cell_type": "code",
   "execution_count": null,
   "metadata": {},
   "outputs": [],
   "source": []
  }
 ],
 "metadata": {
  "kernelspec": {
   "display_name": "Python 3 (ipykernel)",
   "language": "python",
   "name": "python3"
  },
  "language_info": {
   "codemirror_mode": {
    "name": "ipython",
    "version": 3
   },
   "file_extension": ".py",
   "mimetype": "text/x-python",
   "name": "python",
   "nbconvert_exporter": "python",
   "pygments_lexer": "ipython3",
   "version": "3.8.10"
  }
 },
 "nbformat": 4,
 "nbformat_minor": 4
}
